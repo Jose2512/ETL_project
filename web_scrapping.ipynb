{
 "cells": [
  {
   "cell_type": "code",
   "execution_count": 123,
   "metadata": {},
   "outputs": [],
   "source": [
    "from bs4 import BeautifulSoup as bs\n",
    "import requests\n",
    "from splinter import Browser\n",
    "import time\n",
    "import pandas as pd"
   ]
  },
  {
   "cell_type": "code",
   "execution_count": 124,
   "metadata": {},
   "outputs": [],
   "source": [
    "executable_path = {\"executable_path\":\"chromedriver.exe\"}\n",
    "browser = Browser('chrome', **executable_path, headless=False)"
   ]
  },
  {
   "cell_type": "code",
   "execution_count": 125,
   "metadata": {},
   "outputs": [],
   "source": [
    "url = \"https://www.doctoralia.com.mx/buscar?filters%5Bservices%5D%5B%5D=1189&q=Cirug%C3%ADa+bari%C3%A1trica&loc=Ciudad+de+M%C3%A9xico\""
   ]
  },
  {
   "cell_type": "code",
   "execution_count": 126,
   "metadata": {},
   "outputs": [
    {
     "output_type": "execute_result",
     "data": {
      "text/plain": "bs4.BeautifulSoup"
     },
     "metadata": {},
     "execution_count": 126
    }
   ],
   "source": [
    "browser.visit(url)\n",
    "time.sleep(5)\n",
    "response = browser.html\n",
    "soup = bs(response, 'html.parser')\n",
    "type(soup)\n",
    "\n",
    "\n",
    "\n",
    "#Nombre\n",
    "#Especialildad\n",
    "#opiniones\n",
    "#Direccion\n",
    "#link mapa\n",
    "#precios"
   ]
  },
  {
   "cell_type": "code",
   "execution_count": 270,
   "metadata": {
    "tags": [
     "outputPrepend"
    ]
   },
   "outputs": [],
   "source": [
    "search_content = soup.find(\"ul\", class_=\"new-search-list\")\n",
    "results = search_content.find_all(\"li\")\n",
    "\n",
    "complete_results=[]\n",
    "\n",
    "for result in results:\n",
    "    try:\n",
    "        doct_inf = {}\n",
    "        name = result.find(\"a\", {\"data-ga-label\":\"Doctor Name\"})\n",
    "        clean_name = name.text.strip()\n",
    "        doct_inf[\"name\"] = clean_name\n",
    "        ### Specialities\n",
    "        specialties = result.find(\"h4\", {\"data-test-id\":\"doctor-specializations\"})\n",
    "        clean_special = specialties.text.replace(\"\\xa0\", \"\").replace(\"…ver más\", \"\")\n",
    "        doct_inf[\"specialties\"] = clean_special\n",
    "        ### Address\n",
    "        street = result.find(\"span\", class_=\"street\").text\n",
    "        city = result.find(\"span\", class_=\"city\").text\n",
    "        address = (f'{street}, {city}')\n",
    "        doct_inf[\"address\"] = address\n",
    "        ### link\n",
    "        map_link = result.find(\"a\", {\"data-test-id\":\"address-map-link\"})[\"href\"]\n",
    "        doct_inf[\"map_link\"] = map_link\n",
    "        #### Price\n",
    "        try: \n",
    "            price = result.find(\"p\", class_=\"text-nowrap\")\n",
    "            clean_price = int(price.text.replace(\"•\", \"\").replace(\"$\",\"\").replace(\"desde\",\"\").replace(\",\",\"\").strip())\n",
    "        except:\n",
    "            clean_price=0\n",
    "        doct_inf[\"price\"] = clean_price\n",
    "        \n",
    "        ### Opinion\n",
    "        try:\n",
    "            opinions = result.find_all(\"span\", {\"data-eecommerce-action\":\"product-click\"})\n",
    "            clean_op = int(opinions[1].text.replace(\"opiniones\", \"\").strip())\n",
    "        except:\n",
    "            clean_op = 0\n",
    "        doct_inf[\"opinions\"] = clean_op\n",
    "        complete_results.append(doct_inf)\n",
    "    except AttributeError:\n",
    "        pass"
   ]
  },
  {
   "cell_type": "code",
   "execution_count": 271,
   "metadata": {},
   "outputs": [
    {
     "output_type": "execute_result",
     "data": {
      "text/plain": "[{'name': 'Dr. Joaquín E. Guarneros Zárate',\n  'specialties': 'Cirujano general (Laparoscopia, Cirugía laparoscópica, Cirugía de vesícula y vía biliar,  cirugía gastroenterológica)',\n  'address': 'Gelati 29 (Consultorio 1209), Miguel Hidalgo',\n  'map_link': 'https://www.google.com/maps/search/?api=1&query=19.4114724,-99.1885224',\n  'price': 1800,\n  'opinions': 33},\n {'name': 'Dr. Edgar Torres López',\n  'specialties': 'Cirujano general (Endoscopía, Cirugía hepato-bilio-páncreas, Cirugía endoscópica, Cirugía  de la obesidad mórbida)',\n  'address': 'Riobamba #639 Consultorio 535, Gustavo A Madero',\n  'map_link': 'https://www.google.com/maps/search/?api=1&query=19.4898358,-99.1275024',\n  'price': 0,\n  'opinions': 45},\n {'name': 'Dr. Miguel Espinoza Sánchez',\n  'specialties': 'Cirujano general',\n  'address': 'Av. Lomas Verdes 2165, Naucalpan de Juárez',\n  'map_link': 'https://www.google.com/maps/search/?api=1&query=19.4990464,-99.2509766',\n  'price': 0,\n  'opinions': 31},\n {'name': 'Dr. José Santamaria Aguirre',\n  'specialties': 'Endoscopista (Laparoscopia), Cirujano general (Cirugía de la obesidad mórbida, Cirugía bariátrica)',\n  'address': 'Rió Bamba 802, Consultorio 12 HOSPITAL MIG, Gustavo A Madero',\n  'map_link': 'https://www.google.com/maps/search/?api=1&query=19.491579,-99.1266326',\n  'price': 0,\n  'opinions': 27},\n {'name': 'Dr. Samuel Ordoñez Ortega',\n  'specialties': 'Cirujano general (Laparoscopia, Cirugía gastrointestinal, Cirugía de hernia, Cirugía bariátrica)',\n  'address': 'Avenida Árbol del Fuego 80 , Coyoacán',\n  'map_link': 'https://www.google.com/maps/search/?api=1&query=19.3279686,-99.1438828',\n  'price': 0,\n  'opinions': 14},\n {'name': 'Dr. Moisés Marino Ramírez Ramírez',\n  'specialties': 'Médico general (Manejo avanzado de heridas, Bariatría,  heridas crónicas), Cirujano general (Cirugía laparoscópica, Cirugía gastrointestinal, Cirugía endoscópica, Cirugía bariátrica, Cirugía  de la obesidad mórbida)',\n  'address': 'Avenida Árbol del Fuego 80 , Coyoacán',\n  'map_link': 'https://www.google.com/maps/search/?api=1&query=19.3279686,-99.1438828',\n  'price': 800,\n  'opinions': 6},\n {'name': 'Dra. Michelle Marquez Gonzalez',\n  'specialties': 'Especialista en obesidad y delgadez (Enfermedades metabólicas, Cirugías de obesidad, Bariatría), Cirujano general (Cirugía laparoscópica, Cirugía bariátrica, Cirugía abdominal, Cirugía  de la obesidad mórbida, Apoyo nutricional)',\n  'address': 'Tlacotalpan 59, Ciudad de México',\n  'map_link': 'https://www.google.com/maps/search/?api=1&query=19.4068566,-99.1668854',\n  'price': 0,\n  'opinions': 28},\n {'name': 'Dr. Quintín Héctor González Contreras',\n  'specialties': 'Cirujano general (Coloproctología, Cirugía gastrointestinal)',\n  'address': 'Camino a Santa Teresa 1055, Ciudad de México',\n  'map_link': 'https://www.google.com/maps/search/?api=1&query=19.3124886,-99.2210998',\n  'price': 0,\n  'opinions': 6},\n {'name': 'Dr. Giuseppe Briceño Sáenz',\n  'specialties': 'Cirujano general (Cirugía de la obesidad mórbida, Cirugía laparoscópica, Cirugía endoscópica, Cirugía bariátrica)',\n  'address': 'Río Bamba, 639 ( Magdalena de las Salinas), Gustavo A Madero',\n  'map_link': 'https://www.google.com/maps/search/?api=1&query=19.4868068,-99.129486',\n  'price': 0,\n  'opinions': 35},\n {'name': 'Dr. Carlos A. Ruiz Patiño',\n  'specialties': 'Especialista en obesidad y delgadez (Enfermedades metabólicas, Cirugías de obesidad, Bariatría), Cirujano general (Cirugía laparoscópica, Cirugía gastrointestinal, Cirugía bariátrica, Cirugía  de la obesidad mórbida)',\n  'address': 'Querétaro 58 Consultorio 405 Colonia Roma Norte, Cuauhtémoc',\n  'map_link': 'https://www.google.com/maps/search/?api=1&query=19.415207,-99.157051',\n  'price': 1000,\n  'opinions': 2},\n {'name': 'Dra. Claudia Gabriela Palomino Parada',\n  'specialties': 'Especialista en obesidad y delgadez, Cirujano general (Laparoscopia, Endoscopía, Cirugía laparoscópica, Cirugía gastrointestinal)',\n  'address': 'Avenida Oriente 4 no. 10, Ecatepec de Morelos',\n  'map_link': 'https://www.google.com/maps/search/?api=1&query=19.577856,-99.0447388',\n  'price': 0,\n  'opinions': 44},\n {'name': 'Dr. Ricardo Antonio Sánchez Arteaga',\n  'specialties': 'Especialista en obesidad y delgadez (Enfermedades metabólicas, Cirugías de obesidad, Bariatría, Balón intragástrico), Cirujano general (Tratamiento para pie diabético, Cirugía laparoscópica, Cirugía esofagogástrica, Cirugía endoscópica, Cirugía abdominal)',\n  'address': 'Durango 290, consultorio 808, Cuauhtémoc',\n  'map_link': 'https://www.google.com/maps/search/?api=1&query=19.4186534,-99.171257',\n  'price': 500,\n  'opinions': 4},\n {'name': 'Dr. Arturo Vázquez García',\n  'specialties': 'Cirujano general ( cirugía gastroenterológica)',\n  'address': 'Calz de La Viga 1655, Iztapalapa',\n  'map_link': 'https://www.google.com/maps/search/?api=1&query=19.364191,-99.1227112',\n  'price': 800,\n  'opinions': 0},\n {'name': 'Dra. Azucena Reyes Pérez',\n  'specialties': 'Especialista en obesidad y delgadez, Cirujano general (Cirugía de la obesidad mórbida, Cirugía gastrointestinal, Cirugía bariátrica)',\n  'address': 'Frontera 74 Consultorio 605, Ciudad de México',\n  'map_link': 'https://www.google.com/maps/search/?api=1&query=19.4144458,-99.1615372',\n  'price': 0,\n  'opinions': 3},\n {'name': 'Dr. Alejandro Díaz Girón Gidi',\n  'specialties': 'Cirujano general (Laparoscopia, Cirugía robótica, Cirugía laparoscópica, Cirugía gastrointestinal)',\n  'address': 'Puente de Piedra 150, Tlalpan',\n  'map_link': 'https://www.google.com/maps/search/?api=1&query=19.2963524,-99.16082',\n  'price': 0,\n  'opinions': 3}]"
     },
     "metadata": {},
     "execution_count": 271
    }
   ],
   "source": [
    "complete_results"
   ]
  },
  {
   "cell_type": "code",
   "execution_count": null,
   "metadata": {},
   "outputs": [],
   "source": [
    "    try:\n",
    "        doct_inf = {}\n",
    "        ttest = results[result]\n",
    "        name = ttest.find(\"a\", {\"data-ga-label\":\"Doctor Name\"})\n",
    "        clean_name = name.text.strip()\n",
    "        doct_inf[\"name\"] = clean_name\n",
    "        complete_results.append(doct_inf)\n",
    "    except KeyError:\n",
    "        pass"
   ]
  },
  {
   "cell_type": "code",
   "execution_count": 191,
   "metadata": {},
   "outputs": [],
   "source": [
    "complete_results=[]\n",
    "ttest= results[0]\n",
    "doct_inf = {}\n",
    "name = ttest.find(\"a\", {\"data-ga-label\":\"Doctor Name\"})\n",
    "clean_name = name.text.strip()\n",
    "doct_inf[\"name\"] = clean_name\n",
    "complete_results.append(doct_inf)"
   ]
  },
  {
   "cell_type": "code",
   "execution_count": 192,
   "metadata": {},
   "outputs": [
    {
     "output_type": "execute_result",
     "data": {
      "text/plain": "[{'name': 'Dr. Joaquín E. Guarneros Zárate'}]"
     },
     "metadata": {},
     "execution_count": 192
    }
   ],
   "source": [
    "\n",
    "complete_results"
   ]
  },
  {
   "cell_type": "code",
   "execution_count": null,
   "metadata": {},
   "outputs": [],
   "source": [
    "        \n",
    "#specialties = soup.find_all(\"h4\", {\"data-test-id\":\"doctor-specializations\"})\n",
    "#opinions = soup.find_all(\"span\", {\"data-eecommerce-action\":\"product-click\"})\n",
    "#street = soup.find_all(\"span\", class_=\"street\")\n",
    "#city = soup.find_all(\"span\", class_=\"city\")\n",
    "#address = (f'{street}, {city}')\n",
    "#map_link = soup.find(\"a\", {\"data-test-id\":\"address-map-link\"})[\"href\"]"
   ]
  },
  {
   "cell_type": "code",
   "execution_count": 265,
   "metadata": {},
   "outputs": [
    {
     "output_type": "execute_result",
     "data": {
      "text/plain": "'$1,800'"
     },
     "metadata": {},
     "execution_count": 265
    }
   ],
   "source": [
    "price = results[0].find(\"p\", class_=\"text-nowrap\")#.find_all(\"span\", class_=\"offset-0\")\n",
    "gizmo.text.replace(\"•\", \"\").strip()"
   ]
  },
  {
   "cell_type": "code",
   "execution_count": 268,
   "metadata": {},
   "outputs": [
    {
     "output_type": "execute_result",
     "data": {
      "text/plain": "'33'"
     },
     "metadata": {},
     "execution_count": 268
    }
   ],
   "source": [
    "opinions = results[0].find_all(\"span\", {\"data-eecommerce-action\":\"product-click\"})\n",
    "opinions[1].text.replace(\"opiniones\", \"\").strip()"
   ]
  }
 ],
 "metadata": {
  "language_info": {
   "codemirror_mode": {
    "name": "ipython",
    "version": 3
   },
   "file_extension": ".py",
   "mimetype": "text/x-python",
   "name": "python",
   "nbconvert_exporter": "python",
   "pygments_lexer": "ipython3",
   "version": "3.7.4-final"
  },
  "orig_nbformat": 2,
  "kernelspec": {
   "name": "python3",
   "display_name": "Python 3"
  }
 },
 "nbformat": 4,
 "nbformat_minor": 2
}