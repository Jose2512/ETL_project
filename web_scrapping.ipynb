{
 "cells": [
  {
   "cell_type": "code",
   "execution_count": 50,
   "metadata": {},
   "outputs": [],
   "source": [
    "from bs4 import BeautifulSoup as bs\n",
    "import requests\n",
    "from splinter import Browser\n",
    "import time\n",
    "import pandas as pd\n",
    "import  pymongo\n",
    "import numpy as np"
   ]
  },
  {
   "cell_type": "code",
   "execution_count": 51,
   "metadata": {},
   "outputs": [],
   "source": [
    "executable_path = {\"executable_path\":\"chromedriver.exe\"}\n",
    "browser = Browser('chrome', **executable_path, headless=True)\n",
    "conn = 'mongodb://localhost:27017'\n",
    "client = pymongo.MongoClient(conn)\n",
    "\n",
    "db = client.medical_info\n",
    "collection = db.bariatras"
   ]
  },
  {
   "cell_type": "code",
   "execution_count": 52,
   "metadata": {},
   "outputs": [],
   "source": [
    "url = \"https://www.doctoralia.com.mx/buscar?filters%5Bservices%5D%5B0%5D=1189&q=Cirug%C3%ADa+bari%C3%A1trica&loc=Ciudad+de+M%C3%A9xico&page=\""
   ]
  },
  {
   "cell_type": "code",
   "execution_count": 53,
   "metadata": {},
   "outputs": [],
   "source": [
    "complete_data=[]\n",
    "collection.drop()\n"
   ]
  },
  {
   "cell_type": "code",
   "execution_count": 54,
   "metadata": {
    "tags": [
     "outputPrepend"
    ]
   },
   "outputs": [],
   "source": [
    "page_counter = 1\n",
    "for pages in range (0,10):\n",
    "    try:\n",
    "        browser.visit(url+str(page_counter))\n",
    "        time.sleep(2)\n",
    "        if \"&page\" in browser.url:\n",
    "            response = browser.html\n",
    "            soup = bs(response, 'html.parser')\n",
    "            search_content = soup.find(\"ul\", class_=\"new-search-list\")\n",
    "            results = search_content.find_all(\"li\")\n",
    "            for result in results:\n",
    "                try:\n",
    "                    ### Name\n",
    "                    try:\n",
    "                        doct_inf = {}\n",
    "                        name = result.find(\"a\", {\"data-ga-label\":\"Doctor Name\"})\n",
    "                        clean_name = name.text.strip()\n",
    "                    except:\n",
    "                        clean_name= \"NaN\"\n",
    "                    doct_inf[\"name\"] = clean_name\n",
    "                    ### Specialities\n",
    "                    try:\n",
    "                        specialties = result.find(\"h4\", {\"data-test-id\":\"doctor-specializations\"})\n",
    "                        clean_special = specialties.text.replace(\"\\xa0\", \"\").replace(\"…ver más\", \"\")\n",
    "                    except:\n",
    "                        clean_special=\"NaN\"\n",
    "                    doct_inf[\"specialties\"] = clean_special    \n",
    "                    ### Address\n",
    "                    try:\n",
    "                        street = result.find(\"span\", class_=\"street\").text\n",
    "                        city = result.find(\"span\", class_=\"city\").text\n",
    "                        address = (f'{street}, {city}')\n",
    "                    except:\n",
    "                        address = \"NaN\"\n",
    "                    doct_inf[\"address\"] = address\n",
    "                    ### link\n",
    "                    try:\n",
    "                        map_link = result.find(\"a\", {\"data-test-id\":\"address-map-link\"})[\"href\"]\n",
    "                    except:\n",
    "                        map_link = \"NaN\"\n",
    "                    doct_inf[\"map_link\"] = map_link\n",
    "                    #### Price\n",
    "                    try: \n",
    "                        price = result.find(\"p\", class_=\"text-nowrap\")\n",
    "                        clean_price = int(price.text.replace(\"•\", \"\").replace(\"$\",\"\").replace(\"desde\",\"\").replace(\",\",\"\").strip())\n",
    "                    except:\n",
    "                        clean_price=0\n",
    "                    doct_inf[\"price\"] = clean_price\n",
    "                    ### Opinion\n",
    "                    try:\n",
    "                        opinions = result.find_all(\"span\", {\"data-eecommerce-action\":\"product-click\"})\n",
    "                        clean_op = int(opinions[1].text.replace(\"opiniones\", \"\").strip())\n",
    "                    except:\n",
    "                        clean_op = 0\n",
    "                    doct_inf[\"opinions\"] = clean_op\n",
    "                    complete_data.append(doct_inf)\n",
    "                except AttributeError:\n",
    "                    print(\"Error-------------------------\")\n",
    "                    pass\n",
    "            page_counter += 1\n",
    "        \n",
    "\n",
    "    except Exception as e:\n",
    "        print(e)\n",
    "        pass\n",
    "\n"
   ]
  },
  {
   "cell_type": "code",
   "execution_count": 119,
   "metadata": {},
   "outputs": [],
   "source": [
    "doctor_df = pd.DataFrame(complete_data)\n",
    "doctor_no_NAN = doctor_df.replace(\"NaN\", np.nan)\n",
    "doctor_df_clean = doctor_no_NAN.dropna(axis=0, how=\"any\")\n",
    "doctor_no_dup = doctor_df_clean.drop_duplicates(\"name\")\n",
    "final_df = doctor_no_dup.sort_values(\"price\", ascending=False)\n",
    "dicts = final_df.to_dict('records')\n",
    "for i in dicts:\n",
    "    collection.insert_one(i)"
   ]
  }
 ],
 "metadata": {
  "language_info": {
   "codemirror_mode": {
    "name": "ipython",
    "version": 3
   },
   "file_extension": ".py",
   "mimetype": "text/x-python",
   "name": "python",
   "nbconvert_exporter": "python",
   "pygments_lexer": "ipython3",
   "version": "3.7.4-final"
  },
  "orig_nbformat": 2,
  "kernelspec": {
   "name": "python3",
   "display_name": "Python 3"
  }
 },
 "nbformat": 4,
 "nbformat_minor": 2
}